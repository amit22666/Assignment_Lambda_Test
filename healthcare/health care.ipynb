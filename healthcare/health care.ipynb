{
 "cells": [
  {
   "cell_type": "code",
   "execution_count": 1,
   "metadata": {},
   "outputs": [],
   "source": [
    "import numpy as np\n",
    "import pandas as pd\n",
    "import matplotlib.pyplot as plt\n",
    "import seaborn as sns\n",
    "import scipy.stats as stats\n",
    "import missingno as msno\n",
    "import warnings\n",
    "warnings.filterwarnings(\"ignore\")\n",
    "np.set_printoptions(suppress=True,precision=6 )"
   ]
  },
  {
   "cell_type": "code",
   "execution_count": 14,
   "metadata": {},
   "outputs": [],
   "source": [
    "train=pd.read_csv(r\"../input/janatahack-healthcare-analytics-part-2/train.csv\",na_values=np.isnan)\n",
    "test =pd.read_csv(r\"../input/janatahack-healthcare-analytics-part-2/test.csv\",na_values=np.isnan)"
   ]
  },
  {
   "cell_type": "code",
   "execution_count": 15,
   "metadata": {},
   "outputs": [
    {
     "data": {
      "text/plain": [
       "((318438, 18), (137057, 17))"
      ]
     },
     "execution_count": 15,
     "metadata": {},
     "output_type": "execute_result"
    }
   ],
   "source": [
    "train.shape,test.shape"
   ]
  },
  {
   "cell_type": "code",
   "execution_count": 16,
   "metadata": {},
   "outputs": [],
   "source": [
    "train['train_or_test']='train'\n",
    "test['train_or_test']='test'\n",
    "df=pd.concat([train,test])"
   ]
  },
  {
   "cell_type": "code",
   "execution_count": 17,
   "metadata": {
    "scrolled": true
   },
   "outputs": [
    {
     "name": "stdout",
     "output_type": "stream",
     "text": [
      "<class 'pandas.core.frame.DataFrame'>\n",
      "RangeIndex: 318438 entries, 0 to 318437\n",
      "Data columns (total 19 columns):\n",
      " #   Column                             Non-Null Count   Dtype  \n",
      "---  ------                             --------------   -----  \n",
      " 0   case_id                            318438 non-null  int64  \n",
      " 1   Hospital_code                      318438 non-null  int64  \n",
      " 2   Hospital_type_code                 318438 non-null  object \n",
      " 3   City_Code_Hospital                 318438 non-null  int64  \n",
      " 4   Hospital_region_code               318438 non-null  object \n",
      " 5   Available Extra Rooms in Hospital  318438 non-null  int64  \n",
      " 6   Department                         318438 non-null  object \n",
      " 7   Ward_Type                          318438 non-null  object \n",
      " 8   Ward_Facility_Code                 318438 non-null  object \n",
      " 9   Bed Grade                          318325 non-null  float64\n",
      " 10  patientid                          318438 non-null  int64  \n",
      " 11  City_Code_Patient                  313906 non-null  float64\n",
      " 12  Type of Admission                  318438 non-null  object \n",
      " 13  Severity of Illness                318438 non-null  object \n",
      " 14  Visitors with Patient              318438 non-null  int64  \n",
      " 15  Age                                318438 non-null  object \n",
      " 16  Admission_Deposit                  318438 non-null  float64\n",
      " 17  Stay                               318438 non-null  object \n",
      " 18  train_or_test                      318438 non-null  object \n",
      "dtypes: float64(3), int64(6), object(10)\n",
      "memory usage: 46.2+ MB\n",
      "None\n",
      "<class 'pandas.core.frame.DataFrame'>\n",
      "RangeIndex: 137057 entries, 0 to 137056\n",
      "Data columns (total 18 columns):\n",
      " #   Column                             Non-Null Count   Dtype  \n",
      "---  ------                             --------------   -----  \n",
      " 0   case_id                            137057 non-null  int64  \n",
      " 1   Hospital_code                      137057 non-null  int64  \n",
      " 2   Hospital_type_code                 137057 non-null  object \n",
      " 3   City_Code_Hospital                 137057 non-null  int64  \n",
      " 4   Hospital_region_code               137057 non-null  object \n",
      " 5   Available Extra Rooms in Hospital  137057 non-null  int64  \n",
      " 6   Department                         137057 non-null  object \n",
      " 7   Ward_Type                          137057 non-null  object \n",
      " 8   Ward_Facility_Code                 137057 non-null  object \n",
      " 9   Bed Grade                          137022 non-null  float64\n",
      " 10  patientid                          137057 non-null  int64  \n",
      " 11  City_Code_Patient                  134900 non-null  float64\n",
      " 12  Type of Admission                  137057 non-null  object \n",
      " 13  Severity of Illness                137057 non-null  object \n",
      " 14  Visitors with Patient              137057 non-null  int64  \n",
      " 15  Age                                137057 non-null  object \n",
      " 16  Admission_Deposit                  137057 non-null  float64\n",
      " 17  train_or_test                      137057 non-null  object \n",
      "dtypes: float64(3), int64(6), object(9)\n",
      "memory usage: 18.8+ MB\n",
      "None\n"
     ]
    }
   ],
   "source": [
    "for data in [train,test]:\n",
    "    print(data.info())"
   ]
  },
  {
   "cell_type": "code",
   "execution_count": 18,
   "metadata": {},
   "outputs": [
    {
     "data": {
      "text/html": [
       "<div>\n",
       "<style scoped>\n",
       "    .dataframe tbody tr th:only-of-type {\n",
       "        vertical-align: middle;\n",
       "    }\n",
       "\n",
       "    .dataframe tbody tr th {\n",
       "        vertical-align: top;\n",
       "    }\n",
       "\n",
       "    .dataframe thead th {\n",
       "        text-align: right;\n",
       "    }\n",
       "</style>\n",
       "<table border=\"1\" class=\"dataframe\">\n",
       "  <thead>\n",
       "    <tr style=\"text-align: right;\">\n",
       "      <th></th>\n",
       "      <th>case_id</th>\n",
       "      <th>Hospital_code</th>\n",
       "      <th>Hospital_type_code</th>\n",
       "      <th>City_Code_Hospital</th>\n",
       "      <th>Hospital_region_code</th>\n",
       "      <th>Available Extra Rooms in Hospital</th>\n",
       "      <th>Department</th>\n",
       "      <th>Ward_Type</th>\n",
       "      <th>Ward_Facility_Code</th>\n",
       "      <th>Bed Grade</th>\n",
       "      <th>patientid</th>\n",
       "      <th>City_Code_Patient</th>\n",
       "      <th>Type of Admission</th>\n",
       "      <th>Severity of Illness</th>\n",
       "      <th>Visitors with Patient</th>\n",
       "      <th>Age</th>\n",
       "      <th>Admission_Deposit</th>\n",
       "      <th>Stay</th>\n",
       "      <th>train_or_test</th>\n",
       "    </tr>\n",
       "  </thead>\n",
       "  <tbody>\n",
       "    <tr>\n",
       "      <th>0</th>\n",
       "      <td>1</td>\n",
       "      <td>8</td>\n",
       "      <td>c</td>\n",
       "      <td>3</td>\n",
       "      <td>Z</td>\n",
       "      <td>3</td>\n",
       "      <td>radiotherapy</td>\n",
       "      <td>R</td>\n",
       "      <td>F</td>\n",
       "      <td>2.0</td>\n",
       "      <td>31397</td>\n",
       "      <td>7.0</td>\n",
       "      <td>Emergency</td>\n",
       "      <td>Extreme</td>\n",
       "      <td>2</td>\n",
       "      <td>51-60</td>\n",
       "      <td>4911.0</td>\n",
       "      <td>0-10</td>\n",
       "      <td>train</td>\n",
       "    </tr>\n",
       "    <tr>\n",
       "      <th>1</th>\n",
       "      <td>2</td>\n",
       "      <td>2</td>\n",
       "      <td>c</td>\n",
       "      <td>5</td>\n",
       "      <td>Z</td>\n",
       "      <td>2</td>\n",
       "      <td>radiotherapy</td>\n",
       "      <td>S</td>\n",
       "      <td>F</td>\n",
       "      <td>2.0</td>\n",
       "      <td>31397</td>\n",
       "      <td>7.0</td>\n",
       "      <td>Trauma</td>\n",
       "      <td>Extreme</td>\n",
       "      <td>2</td>\n",
       "      <td>51-60</td>\n",
       "      <td>5954.0</td>\n",
       "      <td>41-50</td>\n",
       "      <td>train</td>\n",
       "    </tr>\n",
       "    <tr>\n",
       "      <th>2</th>\n",
       "      <td>3</td>\n",
       "      <td>10</td>\n",
       "      <td>e</td>\n",
       "      <td>1</td>\n",
       "      <td>X</td>\n",
       "      <td>2</td>\n",
       "      <td>anesthesia</td>\n",
       "      <td>S</td>\n",
       "      <td>E</td>\n",
       "      <td>2.0</td>\n",
       "      <td>31397</td>\n",
       "      <td>7.0</td>\n",
       "      <td>Trauma</td>\n",
       "      <td>Extreme</td>\n",
       "      <td>2</td>\n",
       "      <td>51-60</td>\n",
       "      <td>4745.0</td>\n",
       "      <td>31-40</td>\n",
       "      <td>train</td>\n",
       "    </tr>\n",
       "    <tr>\n",
       "      <th>3</th>\n",
       "      <td>4</td>\n",
       "      <td>26</td>\n",
       "      <td>b</td>\n",
       "      <td>2</td>\n",
       "      <td>Y</td>\n",
       "      <td>2</td>\n",
       "      <td>radiotherapy</td>\n",
       "      <td>R</td>\n",
       "      <td>D</td>\n",
       "      <td>2.0</td>\n",
       "      <td>31397</td>\n",
       "      <td>7.0</td>\n",
       "      <td>Trauma</td>\n",
       "      <td>Extreme</td>\n",
       "      <td>2</td>\n",
       "      <td>51-60</td>\n",
       "      <td>7272.0</td>\n",
       "      <td>41-50</td>\n",
       "      <td>train</td>\n",
       "    </tr>\n",
       "    <tr>\n",
       "      <th>4</th>\n",
       "      <td>5</td>\n",
       "      <td>26</td>\n",
       "      <td>b</td>\n",
       "      <td>2</td>\n",
       "      <td>Y</td>\n",
       "      <td>2</td>\n",
       "      <td>radiotherapy</td>\n",
       "      <td>S</td>\n",
       "      <td>D</td>\n",
       "      <td>2.0</td>\n",
       "      <td>31397</td>\n",
       "      <td>7.0</td>\n",
       "      <td>Trauma</td>\n",
       "      <td>Extreme</td>\n",
       "      <td>2</td>\n",
       "      <td>51-60</td>\n",
       "      <td>5558.0</td>\n",
       "      <td>41-50</td>\n",
       "      <td>train</td>\n",
       "    </tr>\n",
       "  </tbody>\n",
       "</table>\n",
       "</div>"
      ],
      "text/plain": [
       "   case_id  Hospital_code Hospital_type_code  City_Code_Hospital  \\\n",
       "0        1              8                  c                   3   \n",
       "1        2              2                  c                   5   \n",
       "2        3             10                  e                   1   \n",
       "3        4             26                  b                   2   \n",
       "4        5             26                  b                   2   \n",
       "\n",
       "  Hospital_region_code  Available Extra Rooms in Hospital    Department  \\\n",
       "0                    Z                                  3  radiotherapy   \n",
       "1                    Z                                  2  radiotherapy   \n",
       "2                    X                                  2    anesthesia   \n",
       "3                    Y                                  2  radiotherapy   \n",
       "4                    Y                                  2  radiotherapy   \n",
       "\n",
       "  Ward_Type Ward_Facility_Code  Bed Grade  patientid  City_Code_Patient  \\\n",
       "0         R                  F        2.0      31397                7.0   \n",
       "1         S                  F        2.0      31397                7.0   \n",
       "2         S                  E        2.0      31397                7.0   \n",
       "3         R                  D        2.0      31397                7.0   \n",
       "4         S                  D        2.0      31397                7.0   \n",
       "\n",
       "  Type of Admission Severity of Illness  Visitors with Patient    Age  \\\n",
       "0         Emergency             Extreme                      2  51-60   \n",
       "1            Trauma             Extreme                      2  51-60   \n",
       "2            Trauma             Extreme                      2  51-60   \n",
       "3            Trauma             Extreme                      2  51-60   \n",
       "4            Trauma             Extreme                      2  51-60   \n",
       "\n",
       "   Admission_Deposit   Stay train_or_test  \n",
       "0             4911.0   0-10         train  \n",
       "1             5954.0  41-50         train  \n",
       "2             4745.0  31-40         train  \n",
       "3             7272.0  41-50         train  \n",
       "4             5558.0  41-50         train  "
      ]
     },
     "execution_count": 18,
     "metadata": {},
     "output_type": "execute_result"
    }
   ],
   "source": [
    "train.head()"
   ]
  },
  {
   "cell_type": "markdown",
   "metadata": {},
   "source": [
    "#### Missing Values Pattern"
   ]
  },
  {
   "cell_type": "code",
   "execution_count": 19,
   "metadata": {
    "scrolled": true
   },
   "outputs": [
    {
     "data": {
      "text/plain": [
       "<AxesSubplot:>"
      ]
     },
     "execution_count": 19,
     "metadata": {},
     "output_type": "execute_result"
    },
    {
     "data": {
      "image/png": "[encoded data removed]",
      "text/plain": [
       "<Figure size 1800x720 with 2 Axes>"
      ]
     },
     "metadata": {
      "needs_background": "light"
     },
     "output_type": "display_data"
    }
   ],
   "source": [
    "msno.matrix(train)"
   ]
  },
  {
   "cell_type": "markdown",
   "metadata": {},
   "source": [
    "#### Feature Engineering "
   ]
  },
  {
   "cell_type": "code",
   "execution_count": 20,
   "metadata": {
    "scrolled": true
   },
   "outputs": [
    {
     "name": "stdout",
     "output_type": "stream",
     "text": [
      "a    143425\n",
      "b     68946\n",
      "c     45928\n",
      "e     24770\n",
      "d     20389\n",
      "f     10703\n",
      "g      4277\n",
      "Name: Hospital_type_code, dtype: int64\n",
      "X    133336\n",
      "Y    122428\n",
      "Z     62674\n",
      "Name: Hospital_region_code, dtype: int64\n",
      "gynecology            249486\n",
      "anesthesia             29649\n",
      "radiotherapy           28516\n",
      "TB & Chest disease      9586\n",
      "surgery                 1201\n",
      "Name: Department, dtype: int64\n",
      "R    127947\n",
      "Q    106165\n",
      "S     77794\n",
      "P      5046\n",
      "T      1477\n",
      "U         9\n",
      "Name: Ward_Type, dtype: int64\n",
      "F    112753\n",
      "E     55351\n",
      "D     51809\n",
      "C     35463\n",
      "B     35156\n",
      "A     27906\n",
      "Name: Ward_Facility_Code, dtype: int64\n",
      "Trauma       152261\n",
      "Emergency    117676\n",
      "Urgent        48501\n",
      "Name: Type of Admission, dtype: int64\n",
      "Moderate    175843\n",
      "Minor        85872\n",
      "Extreme      56723\n",
      "Name: Severity of Illness, dtype: int64\n",
      "41-50     63749\n",
      "31-40     63639\n",
      "51-60     48514\n",
      "21-30     40843\n",
      "71-80     35792\n",
      "61-70     33687\n",
      "11-20     16768\n",
      "81-90      7890\n",
      "0-10       6254\n",
      "91-100     1302\n",
      "Name: Age, dtype: int64\n",
      "21-30                 87491\n",
      "11-20                 78139\n",
      "31-40                 55159\n",
      "51-60                 35018\n",
      "0-10                  23604\n",
      "41-50                 11743\n",
      "71-80                 10254\n",
      "More than 100 Days     6683\n",
      "81-90                  4838\n",
      "91-100                 2765\n",
      "61-70                  2744\n",
      "Name: Stay, dtype: int64\n",
      "train    318438\n",
      "Name: train_or_test, dtype: int64\n"
     ]
    }
   ],
   "source": [
    "for col in train.columns:\n",
    "    if train[col].dtype == 'object':\n",
    "        print(train[col].value_counts())"
   ]
  },
  {
   "cell_type": "code",
   "execution_count": 21,
   "metadata": {},
   "outputs": [],
   "source": [
    "map_hospital_type_code={'a': 0,'b': 1,'c': 2,'e': 3,'d': 4,'f': 5,'g': 6} \n",
    "df['Hospital_type_code'] = df['Hospital_type_code'].map(map_hospital_type_code)\n",
    "\n",
    "map_hospital_region_code = {'X': 0, 'Y': 1, 'Z': 2}\n",
    "df['Hospital_region_code'] = df['Hospital_region_code'].map(map_hospital_region_code)\n",
    "\n",
    "map_department={'gynecology': 0,'anesthesia': 1,'radiotherapy': 2,'TB & Chest disease': 3,'surgery': 4}\n",
    "df['Department'] = df['Department'].map(map_department)\n",
    "\n",
    "map_ward_type ={'R': 0, 'Q': 1, 'S': 2, 'P': 3, 'T': 4, 'U': 5}\n",
    "df['Ward_Type'] = df['Ward_Type'].map(map_ward_type)\n",
    "\n",
    "map_ward_fac ={'F':0, 'E': 1, 'D':2, 'C': 3, 'B': 4, 'A': 5}\n",
    "df['Ward_Facility_Code'] = df['Ward_Facility_Code'].map(map_ward_fac)\n",
    "\n",
    "map_admiss = {'Trauma': 0, 'Emergency': 1, 'Urgent': 2}\n",
    "df['Type of Admission'] = df['Type of Admission'].map(map_admiss)\n",
    "\n",
    "map_severity = {'Minor': 1,'Moderate': 2,'Extreme': 3}\n",
    "df['Severity of Illness'] = df['Severity of Illness'].map(map_severity)\n",
    "\n",
    "map_age = {'0-10': 5,'11-20': 15,'21-30': 25,'31-40': 35,'41-50': 45,\n",
    "           '51-60': 55,'61-70': 65,'71-80': 75,'81-90': 85,'91-100': 95}\n",
    "df['Age'] = df['Age'].map(map_age)\n",
    "\n",
    "# map_stay = {'0-10': 0,'11-20': 1,'21-30': 2,\n",
    "#              '31-40': 3,'41-50': 4, '51-60': 5,'61-70': 6,\n",
    "#              '71-80': 7,'81-90': 8,'91-100': 9, \n",
    "#              'More than 100 Days': 10,}\n",
    "# df['Stay'][df['train_or_test']=='train'] = df['Stay'][df['train_or_test']=='train'].map(map_stay).astype(int)"
   ]
  },
  {
   "cell_type": "code",
   "execution_count": 22,
   "metadata": {},
   "outputs": [],
   "source": [
    "df['Bed Grade'].fillna(df['Bed Grade'][df['train_or_test']=='train'].mode()[0],inplace=True)\n",
    "df['City_Code_Patient'].fillna(df['City_Code_Patient'][df['train_or_test']=='train'].mode()[0],inplace=True)"
   ]
  },
  {
   "cell_type": "code",
   "execution_count": 23,
   "metadata": {},
   "outputs": [],
   "source": [
    "df['case'] = np.zeros((len(df))) \n",
    "df['case'][(df['Type of Admission']==0) & (df['Severity of Illness']==1)] = 1\n",
    "df['case'][(df['Type of Admission']==0) & (df['Severity of Illness']==2)] = 2\n",
    "df['case'][(df['Type of Admission']==0) & (df['Severity of Illness']==3)] = 3\n",
    "df['case'][(df['Type of Admission']==1) & (df['Severity of Illness']==1)] = 1\n",
    "df['case'][(df['Type of Admission']==1) & (df['Severity of Illness']==2)] = 2\n",
    "df['case'][(df['Type of Admission']==1) & (df['Severity of Illness']==3)] = 3\n",
    "df['case'][(df['Type of Admission']==2) & (df['Severity of Illness']==1)] = 2\n",
    "df['case'][(df['Type of Admission']==2) & (df['Severity of Illness']==2)] = 3\n",
    "df['case'][(df['Type of Admission']==2) & (df['Severity of Illness']==3)] = 2"
   ]
  },
  {
   "cell_type": "code",
   "execution_count": 24,
   "metadata": {},
   "outputs": [],
   "source": [
    "train=df.loc[df.train_or_test.isin(['train'])]\n",
    "test=df.loc[df.train_or_test.isin(['test'])]\n",
    "train.drop(columns={'train_or_test','Stay'},axis=1,inplace=True)\n",
    "test.drop(columns={'train_or_test','Stay'},axis=1,inplace=True)"
   ]
  },
  {
   "cell_type": "code",
   "execution_count": 25,
   "metadata": {},
   "outputs": [
    {
     "data": {
      "text/html": [
       "<div>\n",
       "<style scoped>\n",
       "    .dataframe tbody tr th:only-of-type {\n",
       "        vertical-align: middle;\n",
       "    }\n",
       "\n",
       "    .dataframe tbody tr th {\n",
       "        vertical-align: top;\n",
       "    }\n",
       "\n",
       "    .dataframe thead th {\n",
       "        text-align: right;\n",
       "    }\n",
       "</style>\n",
       "<table border=\"1\" class=\"dataframe\">\n",
       "  <thead>\n",
       "    <tr style=\"text-align: right;\">\n",
       "      <th></th>\n",
       "      <th>case_id</th>\n",
       "      <th>Hospital_code</th>\n",
       "      <th>Hospital_type_code</th>\n",
       "      <th>City_Code_Hospital</th>\n",
       "      <th>Hospital_region_code</th>\n",
       "      <th>Available Extra Rooms in Hospital</th>\n",
       "      <th>Department</th>\n",
       "      <th>Ward_Type</th>\n",
       "      <th>Ward_Facility_Code</th>\n",
       "      <th>Bed Grade</th>\n",
       "      <th>patientid</th>\n",
       "      <th>City_Code_Patient</th>\n",
       "      <th>Type of Admission</th>\n",
       "      <th>Severity of Illness</th>\n",
       "      <th>Visitors with Patient</th>\n",
       "      <th>Age</th>\n",
       "      <th>Admission_Deposit</th>\n",
       "      <th>case</th>\n",
       "    </tr>\n",
       "  </thead>\n",
       "  <tbody>\n",
       "    <tr>\n",
       "      <th>0</th>\n",
       "      <td>1</td>\n",
       "      <td>8</td>\n",
       "      <td>2</td>\n",
       "      <td>3</td>\n",
       "      <td>2</td>\n",
       "      <td>3</td>\n",
       "      <td>2</td>\n",
       "      <td>0</td>\n",
       "      <td>0</td>\n",
       "      <td>2.0</td>\n",
       "      <td>31397</td>\n",
       "      <td>7.0</td>\n",
       "      <td>1</td>\n",
       "      <td>3</td>\n",
       "      <td>2</td>\n",
       "      <td>55</td>\n",
       "      <td>4911.0</td>\n",
       "      <td>3.0</td>\n",
       "    </tr>\n",
       "    <tr>\n",
       "      <th>1</th>\n",
       "      <td>2</td>\n",
       "      <td>2</td>\n",
       "      <td>2</td>\n",
       "      <td>5</td>\n",
       "      <td>2</td>\n",
       "      <td>2</td>\n",
       "      <td>2</td>\n",
       "      <td>2</td>\n",
       "      <td>0</td>\n",
       "      <td>2.0</td>\n",
       "      <td>31397</td>\n",
       "      <td>7.0</td>\n",
       "      <td>0</td>\n",
       "      <td>3</td>\n",
       "      <td>2</td>\n",
       "      <td>55</td>\n",
       "      <td>5954.0</td>\n",
       "      <td>3.0</td>\n",
       "    </tr>\n",
       "    <tr>\n",
       "      <th>2</th>\n",
       "      <td>3</td>\n",
       "      <td>10</td>\n",
       "      <td>3</td>\n",
       "      <td>1</td>\n",
       "      <td>0</td>\n",
       "      <td>2</td>\n",
       "      <td>1</td>\n",
       "      <td>2</td>\n",
       "      <td>1</td>\n",
       "      <td>2.0</td>\n",
       "      <td>31397</td>\n",
       "      <td>7.0</td>\n",
       "      <td>0</td>\n",
       "      <td>3</td>\n",
       "      <td>2</td>\n",
       "      <td>55</td>\n",
       "      <td>4745.0</td>\n",
       "      <td>3.0</td>\n",
       "    </tr>\n",
       "    <tr>\n",
       "      <th>3</th>\n",
       "      <td>4</td>\n",
       "      <td>26</td>\n",
       "      <td>1</td>\n",
       "      <td>2</td>\n",
       "      <td>1</td>\n",
       "      <td>2</td>\n",
       "      <td>2</td>\n",
       "      <td>0</td>\n",
       "      <td>2</td>\n",
       "      <td>2.0</td>\n",
       "      <td>31397</td>\n",
       "      <td>7.0</td>\n",
       "      <td>0</td>\n",
       "      <td>3</td>\n",
       "      <td>2</td>\n",
       "      <td>55</td>\n",
       "      <td>7272.0</td>\n",
       "      <td>3.0</td>\n",
       "    </tr>\n",
       "    <tr>\n",
       "      <th>4</th>\n",
       "      <td>5</td>\n",
       "      <td>26</td>\n",
       "      <td>1</td>\n",
       "      <td>2</td>\n",
       "      <td>1</td>\n",
       "      <td>2</td>\n",
       "      <td>2</td>\n",
       "      <td>2</td>\n",
       "      <td>2</td>\n",
       "      <td>2.0</td>\n",
       "      <td>31397</td>\n",
       "      <td>7.0</td>\n",
       "      <td>0</td>\n",
       "      <td>3</td>\n",
       "      <td>2</td>\n",
       "      <td>55</td>\n",
       "      <td>5558.0</td>\n",
       "      <td>3.0</td>\n",
       "    </tr>\n",
       "  </tbody>\n",
       "</table>\n",
       "</div>"
      ],
      "text/plain": [
       "   case_id  Hospital_code  Hospital_type_code  City_Code_Hospital  \\\n",
       "0        1              8                   2                   3   \n",
       "1        2              2                   2                   5   \n",
       "2        3             10                   3                   1   \n",
       "3        4             26                   1                   2   \n",
       "4        5             26                   1                   2   \n",
       "\n",
       "   Hospital_region_code  Available Extra Rooms in Hospital  Department  \\\n",
       "0                     2                                  3           2   \n",
       "1                     2                                  2           2   \n",
       "2                     0                                  2           1   \n",
       "3                     1                                  2           2   \n",
       "4                     1                                  2           2   \n",
       "\n",
       "   Ward_Type  Ward_Facility_Code  Bed Grade  patientid  City_Code_Patient  \\\n",
       "0          0                   0        2.0      31397                7.0   \n",
       "1          2                   0        2.0      31397                7.0   \n",
       "2          2                   1        2.0      31397                7.0   \n",
       "3          0                   2        2.0      31397                7.0   \n",
       "4          2                   2        2.0      31397                7.0   \n",
       "\n",
       "   Type of Admission  Severity of Illness  Visitors with Patient  Age  \\\n",
       "0                  1                    3                      2   55   \n",
       "1                  0                    3                      2   55   \n",
       "2                  0                    3                      2   55   \n",
       "3                  0                    3                      2   55   \n",
       "4                  0                    3                      2   55   \n",
       "\n",
       "   Admission_Deposit  case  \n",
       "0             4911.0   3.0  \n",
       "1             5954.0   3.0  \n",
       "2             4745.0   3.0  \n",
       "3             7272.0   3.0  \n",
       "4             5558.0   3.0  "
      ]
     },
     "execution_count": 25,
     "metadata": {},
     "output_type": "execute_result"
    }
   ],
   "source": [
    "train.head()"
   ]
  },
  {
   "cell_type": "code",
   "execution_count": 26,
   "metadata": {},
   "outputs": [],
   "source": [
    "from sklearn.model_selection import train_test_split as tts\n",
    "\n",
    "x=train.drop(columns={'case_id','Bed Grade'},axis=1)\n",
    "y=train['Bed Grade'].astype(int)\n",
    "\n",
    "test_input = test.drop(columns={'case_id','Bed Grade'},axis=1)\n",
    "test_output = test['Bed Grade'].astype(int)\n",
    "\n",
    "x_train, x_test, y_train, y_test = tts(x,y,test_size=0.2)   "
   ]
  },
  {
   "cell_type": "markdown",
   "metadata": {},
   "source": [
    "### RFC"
   ]
  },
  {
   "cell_type": "code",
   "execution_count": 27,
   "metadata": {
    "scrolled": true
   },
   "outputs": [],
   "source": [
    "from sklearn.ensemble import RandomForestClassifier\n",
    "rfc=RandomForestClassifier(n_estimators=400,max_depth=11,n_jobs=-1).fit(x_train,y_train)"
   ]
  },
  {
   "cell_type": "code",
   "execution_count": 28,
   "metadata": {},
   "outputs": [
    {
     "data": {
      "text/plain": [
       "0.5031089059163422"
      ]
     },
     "execution_count": 28,
     "metadata": {},
     "output_type": "execute_result"
    }
   ],
   "source": [
    "pred=rfc.predict(x_test)\n",
    "\n",
    "from sklearn.metrics import accuracy_score \n",
    "accuracy_score(y_test,pred)"
   ]
  },
  {
   "cell_type": "code",
   "execution_count": 37,
   "metadata": {},
   "outputs": [
    {
     "data": {
      "text/plain": [
       "0.5005362732293863"
      ]
     },
     "execution_count": 37,
     "metadata": {},
     "output_type": "execute_result"
    }
   ],
   "source": [
    "pred_test=rfc.predict(test_input)\n",
    "\n",
    "from sklearn.metrics import accuracy_score \n",
    "accuracy_score(test_output,pred_test)"
   ]
  },
  {
   "cell_type": "markdown",
   "metadata": {},
   "source": [
    "### Catboost"
   ]
  },
  {
   "cell_type": "code",
   "execution_count": 44,
   "metadata": {},
   "outputs": [
    {
     "name": "stdout",
     "output_type": "stream",
     "text": [
      "0:\tlearn: 0.4883529\ttest: 0.4894172\tbest: 0.4894172 (0)\ttotal: 19.2ms\tremaining: 19.2s\n",
      "200:\tlearn: 0.5163821\ttest: 0.5077880\tbest: 0.5080078 (167)\ttotal: 3.36s\tremaining: 13.4s\n",
      "bestTest = 0.5090126868\n",
      "bestIteration = 250\n",
      "Shrink model to first 251 iterations.\n",
      "Fold- 0  accuracy :  0.5090126868483859\n",
      "0:\tlearn: 0.4909977\ttest: 0.4902336\tbest: 0.4902336 (0)\ttotal: 36.1ms\tremaining: 36s\n",
      "200:\tlearn: 0.5167100\ttest: 0.5070657\tbest: 0.5074111 (197)\ttotal: 3.62s\tremaining: 14.4s\n",
      "bestTest = 0.5082590127\n",
      "bestIteration = 291\n",
      "Shrink model to first 292 iterations.\n",
      "Fold- 1  accuracy :  0.5082590126868484\n",
      "0:\tlearn: 0.4882866\ttest: 0.4900138\tbest: 0.4900138 (0)\ttotal: 18.7ms\tremaining: 18.7s\n",
      "200:\tlearn: 0.5168147\ttest: 0.5077566\tbest: 0.5081020 (173)\ttotal: 3.44s\tremaining: 13.7s\n",
      "400:\tlearn: 0.5283781\ttest: 0.5092011\tbest: 0.5096407 (382)\ttotal: 6.82s\tremaining: 10.2s\n",
      "bestTest = 0.5096407486\n",
      "bestIteration = 382\n",
      "Shrink model to first 383 iterations.\n",
      "Fold- 2  accuracy :  0.5096407486496671\n",
      "0:\tlearn: 0.4909628\ttest: 0.4905477\tbest: 0.4905477 (0)\ttotal: 17.7ms\tremaining: 17.7s\n",
      "200:\tlearn: 0.5168322\ttest: 0.5092011\tbest: 0.5092325 (198)\ttotal: 3.28s\tremaining: 13s\n",
      "400:\tlearn: 0.5282804\ttest: 0.5103002\tbest: 0.5108027 (371)\ttotal: 7.62s\tremaining: 11.4s\n",
      "bestTest = 0.510802663\n",
      "bestIteration = 371\n",
      "Shrink model to first 372 iterations.\n",
      "Fold- 3  accuracy :  0.5108026629820375\n",
      "0:\tlearn: 0.4916293\ttest: 0.4845183\tbest: 0.4845183 (0)\ttotal: 18.3ms\tremaining: 18.3s\n",
      "200:\tlearn: 0.5173974\ttest: 0.5026693\tbest: 0.5029519 (194)\ttotal: 3.33s\tremaining: 13.2s\n",
      "400:\tlearn: 0.5288143\ttest: 0.5050245\tbest: 0.5052757 (336)\ttotal: 7.03s\tremaining: 10.5s\n",
      "600:\tlearn: 0.5400113\ttest: 0.5050873\tbest: 0.5059038 (510)\ttotal: 10.3s\tremaining: 6.83s\n",
      "bestTest = 0.5059037809\n",
      "bestIteration = 510\n",
      "Shrink model to first 511 iterations.\n",
      "Fold- 4  accuracy :  0.5059037809320437\n",
      "0:\tlearn: 0.4924737\ttest: 0.4894486\tbest: 0.4894486 (0)\ttotal: 23.9ms\tremaining: 23.9s\n",
      "200:\tlearn: 0.5168252\ttest: 0.5061550\tbest: 0.5062178 (180)\ttotal: 3.37s\tremaining: 13.4s\n",
      "400:\tlearn: 0.5285840\ttest: 0.5062492\tbest: 0.5077880 (300)\ttotal: 6.99s\tremaining: 10.4s\n",
      "bestTest = 0.5077879663\n",
      "bestIteration = 300\n",
      "Shrink model to first 301 iterations.\n",
      "Fold- 5  accuracy :  0.5077879663358874\n",
      "0:\tlearn: 0.4871491\ttest: 0.4852720\tbest: 0.4852720 (0)\ttotal: 19ms\tremaining: 19s\n",
      "200:\tlearn: 0.5163193\ttest: 0.5077566\tbest: 0.5080706 (198)\ttotal: 3.33s\tremaining: 13.2s\n",
      "400:\tlearn: 0.5282420\ttest: 0.5091069\tbest: 0.5100176 (386)\ttotal: 7.88s\tremaining: 11.8s\n",
      "bestTest = 0.5100175857\n",
      "bestIteration = 386\n",
      "Shrink model to first 387 iterations.\n",
      "Fold- 6  accuracy :  0.5100175857304359\n",
      "0:\tlearn: 0.4904674\ttest: 0.4950069\tbest: 0.4950069 (0)\ttotal: 18.2ms\tremaining: 18.2s\n",
      "200:\tlearn: 0.5166333\ttest: 0.5124356\tbest: 0.5133463 (146)\ttotal: 3.3s\tremaining: 13.1s\n",
      "bestTest = 0.5133463133\n",
      "bestIteration = 146\n",
      "Shrink model to first 147 iterations.\n",
      "Fold- 7  accuracy :  0.5133463132772265\n",
      "0:\tlearn: 0.4911774\ttest: 0.4885532\tbest: 0.4885532 (0)\ttotal: 17.9ms\tremaining: 17.8s\n",
      "200:\tlearn: 0.5172979\ttest: 0.5029363\tbest: 0.5038784 (164)\ttotal: 3.66s\tremaining: 14.5s\n",
      "400:\tlearn: 0.5283902\ttest: 0.5067362\tbest: 0.5068304 (399)\ttotal: 6.9s\tremaining: 10.3s\n",
      "bestTest = 0.5068303866\n",
      "bestIteration = 399\n",
      "Shrink model to first 400 iterations.\n",
      "Fold- 8  accuracy :  0.5068303865841787\n",
      "0:\tlearn: 0.4882709\ttest: 0.4902176\tbest: 0.4902176 (0)\ttotal: 18.7ms\tremaining: 18.6s\n",
      "200:\tlearn: 0.5161535\ttest: 0.5114468\tbest: 0.5117294 (157)\ttotal: 3.37s\tremaining: 13.4s\n",
      "bestTest = 0.5117294225\n",
      "bestIteration = 157\n",
      "Shrink model to first 158 iterations.\n",
      "Fold- 9  accuracy :  0.5117294224790377\n"
     ]
    }
   ],
   "source": [
    "from catboost import CatBoostClassifier\n",
    "from sklearn.model_selection import StratifiedKFold\n",
    "accuracies = [] \n",
    "y_pred = []\n",
    "\n",
    "\n",
    "fold = StratifiedKFold(n_splits=10, shuffle=True, random_state=2020)\n",
    "i = 0\n",
    "\n",
    "for train_index, test_index in fold.split(x, y):\n",
    "    x_train, x_val = x.iloc[train_index], x.iloc[test_index]\n",
    "    y_train, y_val = y.iloc[train_index], y.iloc[test_index]\n",
    "    m = CatBoostClassifier(n_estimators=1000,\n",
    "                       random_state=2020,\n",
    "                       eval_metric='Accuracy',\n",
    "                       learning_rate=0.08,\n",
    "                       depth=8,task_type='GPU'\n",
    "                       )\n",
    "    m.fit(x_train, y_train,eval_set=[(x_val, y_val)], early_stopping_rounds=100,verbose=200)\n",
    "    pred_y = m.predict(x_val)\n",
    "    print(\"Fold-\",i, \" accuracy : \", accuracy_score(y_val,pred_y))\n",
    "    accuracies.append(accuracy_score(y_val,pred_y))\n",
    "    y_pred.append( m.predict(test_input))\n",
    "    i = i + 1\n",
    "# y_pred_prob=y_pred_prob/10"
   ]
  },
  {
   "cell_type": "code",
   "execution_count": 45,
   "metadata": {},
   "outputs": [
    {
     "data": {
      "text/plain": [
       "0.5093330566505749"
      ]
     },
     "execution_count": 45,
     "metadata": {},
     "output_type": "execute_result"
    }
   ],
   "source": [
    "#avg accuracies\n",
    "sum(accuracies)/10"
   ]
  },
  {
   "cell_type": "code",
   "execution_count": 48,
   "metadata": {},
   "outputs": [],
   "source": [
    "y_pred = np.reshape(np.array(y_pred),(10,137057))"
   ]
  },
  {
   "cell_type": "code",
   "execution_count": 51,
   "metadata": {},
   "outputs": [],
   "source": [
    "from scipy import stats\n",
    "m = stats.mode(y_pred)\n",
    "test_pred = m[0]"
   ]
  },
  {
   "cell_type": "code",
   "execution_count": 56,
   "metadata": {},
   "outputs": [
    {
     "data": {
      "text/plain": [
       "array([2, 2, 2, ..., 3, 3, 3])"
      ]
     },
     "execution_count": 56,
     "metadata": {},
     "output_type": "execute_result"
    }
   ],
   "source": [
    "test_pred"
   ]
  },
  {
   "cell_type": "code",
   "execution_count": 57,
   "metadata": {},
   "outputs": [
    {
     "data": {
      "text/plain": [
       "0.5075333620318554"
      ]
     },
     "execution_count": 57,
     "metadata": {},
     "output_type": "execute_result"
    }
   ],
   "source": [
    "# pred_test = [np.argmax(x) for x in y_pred_prob]\n",
    "accuracy_score(test_output,test_pred.ravel())"
   ]
  },
  {
   "cell_type": "code",
   "execution_count": null,
   "metadata": {},
   "outputs": [],
   "source": []
  }
 ],
 "metadata": {
  "kernelspec": {
   "display_name": "Python 3",
   "language": "python",
   "name": "python3"
  },
  "language_info": {
   "codemirror_mode": {
    "name": "ipython",
    "version": 3
   },
   "file_extension": ".py",
   "mimetype": "text/x-python",
   "name": "python",
   "nbconvert_exporter": "python",
   "pygments_lexer": "ipython3",
   "version": "3.7.4"
  }
 },
 "nbformat": 4,
 "nbformat_minor": 4
}
